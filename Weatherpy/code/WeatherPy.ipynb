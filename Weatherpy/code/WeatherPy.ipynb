{
 "cells": [
  {
   "cell_type": "markdown",
   "metadata": {},
   "source": [
    "# WeatherPy\n",
    "----\n",
    "\n",
    "#### Note\n",
    "* Instructions have been included for each segment. You do not have to follow them exactly, but they are included to help you think through the steps."
   ]
  },
  {
   "cell_type": "code",
   "execution_count": 51,
   "metadata": {
    "scrolled": true
   },
   "outputs": [],
   "source": [
    "# Dependencies and Setup\n",
    "import matplotlib.pyplot as plt\n",
    "import pandas as pd\n",
    "import numpy as np\n",
    "import requests as rq\n",
    "import time\n",
    "from scipy.stats import linregress\n",
    "\n",
    "# Import API key\n",
    "from api_keys import weather_api_key\n",
    "\n",
    "# Incorporated citipy to determine city based on latitude and longitude\n",
    "from citipy import citipy\n",
    "\n",
    "# Output File (CSV)\n",
    "output_data_file = \"output_data/cities.csv\"\n",
    "\n",
    "# Range of latitudes and longitudes\n",
    "lat_range = (-90, 90)\n",
    "lng_range = (-180, 180)"
   ]
  },
  {
   "cell_type": "markdown",
   "metadata": {},
   "source": [
    "## Generate Cities List"
   ]
  },
  {
   "cell_type": "code",
   "execution_count": 52,
   "metadata": {},
   "outputs": [
    {
     "data": {
      "text/plain": [
       "606"
      ]
     },
     "execution_count": 52,
     "metadata": {},
     "output_type": "execute_result"
    }
   ],
   "source": [
    "# List for holding lat_lngs and cities\n",
    "lat_lngs = []\n",
    "cities = []\n",
    "\n",
    "# Create a set of random lat and lng combinations\n",
    "lats = np.random.uniform(lat_range[0], lat_range[1], size=1500)\n",
    "lngs = np.random.uniform(lng_range[0], lng_range[1], size=1500)\n",
    "lat_lngs = zip(lats, lngs)\n",
    "\n",
    "# Identify nearest city for each lat, lng combination\n",
    "for lat_lng in lat_lngs:\n",
    "    city = citipy.nearest_city(lat_lng[0], lat_lng[1]).city_name\n",
    "    \n",
    "    # If the city is unique, then add it to a our cities list\n",
    "    if city not in cities:\n",
    "        cities.append(city)\n",
    "\n",
    "# Print the city count to confirm sufficient count\n",
    "len(cities)\n",
    "#print(cities)"
   ]
  },
  {
   "cell_type": "markdown",
   "metadata": {},
   "source": [
    "### Perform API Calls\n",
    "* Perform a weather check on each city using a series of successive API calls.\n",
    "* Include a print log of each city as it'sbeing processed (with the city number and city name).\n"
   ]
  },
  {
   "cell_type": "code",
   "execution_count": 53,
   "metadata": {},
   "outputs": [
    {
     "name": "stdout",
     "output_type": "stream",
     "text": [
      "Beginning Data Retrieval\n",
      "-----------------------------\n",
      "Processing Record 1 of Set 1 | salinopolis\n",
      "Processing Record 2 of Set 1 | college\n",
      "Processing Record 3 of Set 1 | poitiers\n",
      "Processing Record 4 of Set 1 | east london\n",
      "Processing Record 5 of Set 1 | grand-santi\n",
      "Processing Record 6 of Set 1 | sri aman\n",
      "Processing Record 7 of Set 1 | atuona\n",
      "Processing Record 8 of Set 1 | thompson\n",
      "Processing Record 9 of Set 1 | taolanaro\n",
      "City not found. Skipping...\n",
      "Processing Record 10 of Set 1 | torbay\n",
      "Processing Record 11 of Set 1 | caravelas\n",
      "Processing Record 12 of Set 1 | beni mazar\n",
      "Processing Record 13 of Set 1 | punta arenas\n",
      "Processing Record 14 of Set 1 | braslav\n",
      "City not found. Skipping...\n",
      "Processing Record 15 of Set 1 | namatanai\n",
      "Processing Record 16 of Set 1 | georgetown\n",
      "Processing Record 17 of Set 1 | new norfolk\n",
      "Processing Record 18 of Set 1 | ushuaia\n",
      "Processing Record 19 of Set 1 | kiruna\n",
      "Processing Record 20 of Set 1 | normandin\n",
      "Processing Record 21 of Set 1 | cherskiy\n",
      "Processing Record 22 of Set 1 | hirara\n",
      "Processing Record 23 of Set 1 | khatanga\n",
      "Processing Record 24 of Set 1 | wajima\n",
      "Processing Record 25 of Set 1 | hobart\n",
      "Processing Record 26 of Set 1 | coquimbo\n",
      "Processing Record 27 of Set 1 | paamiut\n",
      "Processing Record 28 of Set 1 | sundvollen\n",
      "City not found. Skipping...\n",
      "Processing Record 29 of Set 1 | sorong\n",
      "Processing Record 30 of Set 1 | port elizabeth\n",
      "Processing Record 31 of Set 1 | helong\n",
      "Processing Record 32 of Set 1 | lovozero\n",
      "Processing Record 33 of Set 1 | bluff\n",
      "Processing Record 34 of Set 1 | bubaque\n",
      "Processing Record 35 of Set 1 | rikitea\n",
      "Processing Record 36 of Set 1 | saint-francois\n",
      "Processing Record 37 of Set 1 | saint george\n",
      "Processing Record 38 of Set 1 | palamos\n",
      "Processing Record 39 of Set 1 | faanui\n",
      "Processing Record 40 of Set 1 | iqaluit\n",
      "Processing Record 41 of Set 1 | mahebourg\n",
      "Processing Record 42 of Set 1 | boshkengash\n",
      "Processing Record 43 of Set 1 | atar\n",
      "Processing Record 44 of Set 1 | mataura\n",
      "Processing Record 45 of Set 1 | provideniya\n",
      "Processing Record 46 of Set 1 | port alfred\n",
      "Processing Record 47 of Set 1 | korla\n",
      "Processing Record 48 of Set 1 | mogadishu\n",
      "Processing Record 49 of Set 1 | edeia\n",
      "Processing Record 50 of Set 1 | kapaa\n",
      "Processing Record 1 of Set 2 | rock falls\n",
      "Processing Record 2 of Set 2 | kamenskoye\n",
      "City not found. Skipping...\n",
      "Processing Record 3 of Set 2 | cape town\n",
      "Processing Record 4 of Set 2 | nantucket\n",
      "Processing Record 5 of Set 2 | fort nelson\n",
      "Processing Record 6 of Set 2 | bredasdorp\n",
      "Processing Record 7 of Set 2 | nizhneyansk\n",
      "City not found. Skipping...\n",
      "Processing Record 8 of Set 2 | kenora\n",
      "Processing Record 9 of Set 2 | busselton\n",
      "Processing Record 10 of Set 2 | quijingue\n",
      "Processing Record 11 of Set 2 | san quintin\n",
      "Processing Record 12 of Set 2 | vao\n",
      "Processing Record 13 of Set 2 | vestmannaeyjar\n",
      "Processing Record 14 of Set 2 | lompoc\n",
      "Processing Record 15 of Set 2 | illoqqortoormiut\n",
      "City not found. Skipping...\n",
      "Processing Record 16 of Set 2 | albany\n",
      "Processing Record 17 of Set 2 | cayenne\n",
      "Processing Record 18 of Set 2 | xining\n",
      "Processing Record 19 of Set 2 | nortelandia\n",
      "Processing Record 20 of Set 2 | tuktoyaktuk\n",
      "Processing Record 21 of Set 2 | varska\n",
      "City not found. Skipping...\n",
      "Processing Record 22 of Set 2 | castro\n",
      "Processing Record 23 of Set 2 | codrington\n",
      "Processing Record 24 of Set 2 | qaanaaq\n",
      "Processing Record 25 of Set 2 | lexington\n",
      "Processing Record 26 of Set 2 | roebourne\n",
      "Processing Record 27 of Set 2 | bilma\n",
      "Processing Record 28 of Set 2 | lithakia\n",
      "Processing Record 29 of Set 2 | verkhniy baskunchak\n",
      "Processing Record 30 of Set 2 | bambous virieux\n",
      "Processing Record 31 of Set 2 | gazli\n",
      "Processing Record 32 of Set 2 | lethem\n",
      "Processing Record 33 of Set 2 | hermanus\n",
      "Processing Record 34 of Set 2 | souillac\n",
      "Processing Record 35 of Set 2 | avarua\n",
      "Processing Record 36 of Set 2 | halalo\n",
      "City not found. Skipping...\n",
      "Processing Record 37 of Set 2 | vilyuysk\n",
      "Processing Record 38 of Set 2 | carnarvon\n",
      "Processing Record 39 of Set 2 | upernavik\n",
      "Processing Record 40 of Set 2 | dikson\n",
      "Processing Record 41 of Set 2 | kodiak\n",
      "Processing Record 42 of Set 2 | ponta do sol\n",
      "Processing Record 43 of Set 2 | ribeira grande\n",
      "Processing Record 44 of Set 2 | tuatapere\n",
      "Processing Record 45 of Set 2 | saint-philippe\n",
      "Processing Record 46 of Set 2 | galle\n",
      "Processing Record 47 of Set 2 | jamestown\n",
      "Processing Record 48 of Set 2 | the valley\n",
      "Processing Record 49 of Set 2 | geraldton\n",
      "Processing Record 50 of Set 2 | sorvag\n",
      "City not found. Skipping...\n",
      "Processing Record 1 of Set 3 | hilo\n",
      "Processing Record 2 of Set 3 | belushya guba\n",
      "City not found. Skipping...\n",
      "Processing Record 3 of Set 3 | nikolskoye\n",
      "Processing Record 4 of Set 3 | leningradskiy\n",
      "Processing Record 5 of Set 3 | ancud\n",
      "Processing Record 6 of Set 3 | warqla\n",
      "City not found. Skipping...\n",
      "Processing Record 7 of Set 3 | nyurba\n",
      "Processing Record 8 of Set 3 | fairbanks\n",
      "Processing Record 9 of Set 3 | yellowknife\n",
      "Processing Record 10 of Set 3 | chuy\n",
      "Processing Record 11 of Set 3 | hithadhoo\n",
      "Processing Record 12 of Set 3 | nuevo progreso\n",
      "Processing Record 13 of Set 3 | arraial do cabo\n",
      "Processing Record 14 of Set 3 | vaini\n",
      "Processing Record 15 of Set 3 | vaasa\n",
      "Processing Record 16 of Set 3 | sinkat\n",
      "City not found. Skipping...\n",
      "Processing Record 17 of Set 3 | okhotsk\n",
      "Processing Record 18 of Set 3 | bengkulu\n",
      "Processing Record 19 of Set 3 | mandal\n",
      "Processing Record 20 of Set 3 | amderma\n",
      "City not found. Skipping...\n",
      "Processing Record 21 of Set 3 | ilulissat\n",
      "Processing Record 22 of Set 3 | christchurch\n",
      "Processing Record 23 of Set 3 | leh\n",
      "Processing Record 24 of Set 3 | namibe\n",
      "Processing Record 25 of Set 3 | pisco\n",
      "Processing Record 26 of Set 3 | xinzhou\n",
      "Processing Record 27 of Set 3 | kruisfontein\n",
      "Processing Record 28 of Set 3 | mahon\n",
      "Processing Record 29 of Set 3 | dondo\n",
      "Processing Record 30 of Set 3 | bethel\n",
      "Processing Record 31 of Set 3 | xifeng\n",
      "Processing Record 32 of Set 3 | puerto carreno\n",
      "Processing Record 33 of Set 3 | machali\n",
      "Processing Record 34 of Set 3 | pizarro\n",
      "Processing Record 35 of Set 3 | barrow\n",
      "Processing Record 36 of Set 3 | tevriz\n",
      "Processing Record 37 of Set 3 | saint-pierre\n",
      "Processing Record 38 of Set 3 | konevo\n",
      "Processing Record 39 of Set 3 | half moon bay\n",
      "Processing Record 40 of Set 3 | havre-saint-pierre\n",
      "Processing Record 41 of Set 3 | ngunguru\n",
      "Processing Record 42 of Set 3 | skibbereen\n",
      "Processing Record 43 of Set 3 | petropavlovsk-kamchatskiy\n",
      "Processing Record 44 of Set 3 | brae\n",
      "Processing Record 45 of Set 3 | agirish\n",
      "Processing Record 46 of Set 3 | jalu\n",
      "Processing Record 47 of Set 3 | olafsvik\n",
      "Processing Record 48 of Set 3 | haibowan\n",
      "City not found. Skipping...\n",
      "Processing Record 49 of Set 3 | samusu\n",
      "City not found. Skipping...\n",
      "Processing Record 50 of Set 3 | mys shmidta\n",
      "City not found. Skipping...\n",
      "Processing Record 1 of Set 4 | katsuura\n",
      "Processing Record 2 of Set 4 | mnogovershinnyy\n",
      "Processing Record 3 of Set 4 | luderitz\n",
      "Processing Record 4 of Set 4 | ayan\n",
      "Processing Record 5 of Set 4 | ballina\n",
      "Processing Record 6 of Set 4 | sentyabrskiy\n",
      "City not found. Skipping...\n",
      "Processing Record 7 of Set 4 | clyde river\n",
      "Processing Record 8 of Set 4 | chokurdakh\n",
      "Processing Record 9 of Set 4 | dwarka\n",
      "Processing Record 10 of Set 4 | villa de san francisco\n",
      "Processing Record 11 of Set 4 | berlevag\n",
      "Processing Record 12 of Set 4 | butaritari\n",
      "Processing Record 13 of Set 4 | arlit\n",
      "Processing Record 14 of Set 4 | margate\n",
      "Processing Record 15 of Set 4 | kavieng\n",
      "Processing Record 16 of Set 4 | arzachena\n",
      "Processing Record 17 of Set 4 | richards bay\n",
      "Processing Record 18 of Set 4 | oktyabrskiy\n",
      "Processing Record 19 of Set 4 | tromso\n",
      "Processing Record 20 of Set 4 | palabuhanratu\n",
      "City not found. Skipping...\n",
      "Processing Record 21 of Set 4 | saint anthony\n",
      "Processing Record 22 of Set 4 | adrar\n",
      "Processing Record 23 of Set 4 | mandapeta\n",
      "Processing Record 24 of Set 4 | finnsnes\n",
      "Processing Record 25 of Set 4 | kununurra\n",
      "Processing Record 26 of Set 4 | port-cartier\n",
      "Processing Record 27 of Set 4 | yichang\n",
      "Processing Record 28 of Set 4 | evans\n",
      "Processing Record 29 of Set 4 | grand river south east\n",
      "City not found. Skipping...\n",
      "Processing Record 30 of Set 4 | oranjemund\n",
      "Processing Record 31 of Set 4 | barentsburg\n",
      "City not found. Skipping...\n",
      "Processing Record 32 of Set 4 | eltham\n",
      "Processing Record 33 of Set 4 | lardos\n",
      "Processing Record 34 of Set 4 | faya\n"
     ]
    },
    {
     "name": "stdout",
     "output_type": "stream",
     "text": [
      "Processing Record 35 of Set 4 | zheleznodorozhnyy\n",
      "Processing Record 36 of Set 4 | tasiilaq\n",
      "Processing Record 37 of Set 4 | saskylakh\n",
      "Processing Record 38 of Set 4 | dawei\n",
      "Processing Record 39 of Set 4 | bati\n",
      "Processing Record 40 of Set 4 | padang\n",
      "Processing Record 41 of Set 4 | pevek\n",
      "Processing Record 42 of Set 4 | mwinilunga\n",
      "Processing Record 43 of Set 4 | bendigo\n",
      "Processing Record 44 of Set 4 | severo-kurilsk\n",
      "Processing Record 45 of Set 4 | marawi\n",
      "Processing Record 46 of Set 4 | karratha\n",
      "Processing Record 47 of Set 4 | kachiry\n",
      "Processing Record 48 of Set 4 | lakes entrance\n",
      "Processing Record 49 of Set 4 | isangel\n",
      "Processing Record 50 of Set 4 | mitu\n",
      "Processing Record 1 of Set 5 | bosaso\n",
      "Processing Record 2 of Set 5 | saleaula\n",
      "City not found. Skipping...\n",
      "Processing Record 3 of Set 5 | atasu\n",
      "Processing Record 4 of Set 5 | mahibadhoo\n",
      "Processing Record 5 of Set 5 | necochea\n",
      "Processing Record 6 of Set 5 | batsfjord\n",
      "Processing Record 7 of Set 5 | zhongshan\n",
      "Processing Record 8 of Set 5 | panguna\n",
      "Processing Record 9 of Set 5 | saltpond\n",
      "Processing Record 10 of Set 5 | saint-georges\n",
      "Processing Record 11 of Set 5 | tilichiki\n",
      "Processing Record 12 of Set 5 | tiksi\n",
      "Processing Record 13 of Set 5 | kozachi laheri\n",
      "Processing Record 14 of Set 5 | airai\n",
      "Processing Record 15 of Set 5 | hualmay\n",
      "Processing Record 16 of Set 5 | dzhebariki-khaya\n",
      "Processing Record 17 of Set 5 | ninghai\n",
      "Processing Record 18 of Set 5 | guatire\n",
      "Processing Record 19 of Set 5 | norman wells\n",
      "Processing Record 20 of Set 5 | saurimo\n",
      "Processing Record 21 of Set 5 | laguna\n",
      "Processing Record 22 of Set 5 | roma\n",
      "Processing Record 23 of Set 5 | longyearbyen\n",
      "Processing Record 24 of Set 5 | egvekinot\n",
      "Processing Record 25 of Set 5 | talnakh\n",
      "Processing Record 26 of Set 5 | awassa\n",
      "Processing Record 27 of Set 5 | san ramon\n",
      "Processing Record 28 of Set 5 | port hardy\n",
      "Processing Record 29 of Set 5 | yar-sale\n",
      "Processing Record 30 of Set 5 | northam\n",
      "Processing Record 31 of Set 5 | afmadu\n",
      "City not found. Skipping...\n",
      "Processing Record 32 of Set 5 | nokha\n",
      "Processing Record 33 of Set 5 | moussoro\n",
      "Processing Record 34 of Set 5 | santa rosa\n",
      "Processing Record 35 of Set 5 | rolim de moura\n",
      "City not found. Skipping...\n",
      "Processing Record 36 of Set 5 | sheboygan\n",
      "Processing Record 37 of Set 5 | ewa beach\n",
      "Processing Record 38 of Set 5 | ust-nera\n",
      "Processing Record 39 of Set 5 | esperance\n",
      "Processing Record 40 of Set 5 | bournemouth\n",
      "Processing Record 41 of Set 5 | prieska\n",
      "Processing Record 42 of Set 5 | svetlogorsk\n",
      "Processing Record 43 of Set 5 | mutsamudu\n",
      "City not found. Skipping...\n",
      "Processing Record 44 of Set 5 | carutapera\n",
      "Processing Record 45 of Set 5 | singkawang\n",
      "Processing Record 46 of Set 5 | port blair\n",
      "Processing Record 47 of Set 5 | port lincoln\n",
      "Processing Record 48 of Set 5 | nelson bay\n",
      "Processing Record 49 of Set 5 | san cristobal\n",
      "Processing Record 50 of Set 5 | kirakira\n",
      "Processing Record 1 of Set 6 | olinda\n",
      "Processing Record 2 of Set 6 | colomi\n",
      "Processing Record 3 of Set 6 | lavrentiya\n",
      "Processing Record 4 of Set 6 | mehamn\n",
      "Processing Record 5 of Set 6 | yuzhno-yeniseyskiy\n",
      "City not found. Skipping...\n",
      "Processing Record 6 of Set 6 | mapiripan\n",
      "Processing Record 7 of Set 6 | severo-yeniseyskiy\n",
      "Processing Record 8 of Set 6 | mitsamiouli\n",
      "Processing Record 9 of Set 6 | aklavik\n",
      "Processing Record 10 of Set 6 | phan rang\n",
      "City not found. Skipping...\n",
      "Processing Record 11 of Set 6 | pangnirtung\n",
      "Processing Record 12 of Set 6 | kaeo\n",
      "Processing Record 13 of Set 6 | cruzeiro do sul\n",
      "Processing Record 14 of Set 6 | puerto ayora\n",
      "Processing Record 15 of Set 6 | chengde\n",
      "Processing Record 16 of Set 6 | juazeiro\n",
      "Processing Record 17 of Set 6 | pokrovsk\n",
      "Processing Record 18 of Set 6 | san patricio\n",
      "Processing Record 19 of Set 6 | asfi\n",
      "Processing Record 20 of Set 6 | changde\n",
      "Processing Record 21 of Set 6 | tommot\n",
      "Processing Record 22 of Set 6 | kamaishi\n",
      "Processing Record 23 of Set 6 | gogrial\n",
      "Processing Record 24 of Set 6 | vaitupu\n",
      "City not found. Skipping...\n",
      "Processing Record 25 of Set 6 | mumford\n",
      "Processing Record 26 of Set 6 | sao joao da barra\n",
      "Processing Record 27 of Set 6 | bonavista\n",
      "Processing Record 28 of Set 6 | lasa\n",
      "Processing Record 29 of Set 6 | eureka\n",
      "Processing Record 30 of Set 6 | koutiala\n",
      "Processing Record 31 of Set 6 | karkaralinsk\n",
      "City not found. Skipping...\n",
      "Processing Record 32 of Set 6 | xiuyan\n",
      "Processing Record 33 of Set 6 | koslan\n",
      "Processing Record 34 of Set 6 | meteti\n",
      "Processing Record 35 of Set 6 | mullaitivu\n",
      "City not found. Skipping...\n",
      "Processing Record 36 of Set 6 | kaitangata\n",
      "Processing Record 37 of Set 6 | lebu\n",
      "Processing Record 38 of Set 6 | pochutla\n",
      "Processing Record 39 of Set 6 | ngukurr\n",
      "City not found. Skipping...\n",
      "Processing Record 40 of Set 6 | cidreira\n",
      "Processing Record 41 of Set 6 | kazalinsk\n",
      "City not found. Skipping...\n",
      "Processing Record 42 of Set 6 | hoi an\n",
      "Processing Record 43 of Set 6 | attawapiskat\n",
      "City not found. Skipping...\n",
      "Processing Record 44 of Set 6 | mount isa\n",
      "Processing Record 45 of Set 6 | toliary\n",
      "City not found. Skipping...\n",
      "Processing Record 46 of Set 6 | netrakona\n",
      "Processing Record 47 of Set 6 | nakusp\n",
      "Processing Record 48 of Set 6 | itaueira\n",
      "Processing Record 49 of Set 6 | husavik\n",
      "Processing Record 50 of Set 6 | verkhnevilyuysk\n",
      "Processing Record 1 of Set 7 | hofn\n",
      "Processing Record 2 of Set 7 | iwanai\n",
      "Processing Record 3 of Set 7 | rawson\n",
      "Processing Record 4 of Set 7 | mosquera\n",
      "Processing Record 5 of Set 7 | jacqueville\n",
      "Processing Record 6 of Set 7 | trenggalek\n",
      "Processing Record 7 of Set 7 | deep river\n",
      "Processing Record 8 of Set 7 | vila\n",
      "Processing Record 9 of Set 7 | tumannyy\n",
      "City not found. Skipping...\n",
      "Processing Record 10 of Set 7 | kavaratti\n",
      "Processing Record 11 of Set 7 | njinikom\n",
      "Processing Record 12 of Set 7 | yaritagua\n",
      "Processing Record 13 of Set 7 | hasaki\n",
      "Processing Record 14 of Set 7 | ostrovnoy\n",
      "Processing Record 15 of Set 7 | gilgit\n",
      "Processing Record 16 of Set 7 | wanaka\n",
      "Processing Record 17 of Set 7 | yulara\n",
      "Processing Record 18 of Set 7 | korampallam\n",
      "Processing Record 19 of Set 7 | payo\n",
      "Processing Record 20 of Set 7 | caranavi\n",
      "Processing Record 21 of Set 7 | riyadh\n",
      "Processing Record 22 of Set 7 | huimanguillo\n",
      "Processing Record 23 of Set 7 | kirkwood\n",
      "Processing Record 24 of Set 7 | severnyy\n",
      "Processing Record 25 of Set 7 | kralendijk\n",
      "Processing Record 26 of Set 7 | beringovskiy\n",
      "Processing Record 27 of Set 7 | coihaique\n",
      "Processing Record 28 of Set 7 | palu\n",
      "Processing Record 29 of Set 7 | portland\n",
      "Processing Record 30 of Set 7 | sarankhola\n",
      "Processing Record 31 of Set 7 | saint-denis\n",
      "Processing Record 32 of Set 7 | letterkenny\n",
      "Processing Record 33 of Set 7 | pleasanton\n",
      "Processing Record 34 of Set 7 | sabang\n",
      "Processing Record 35 of Set 7 | victoria\n",
      "Processing Record 36 of Set 7 | pacific grove\n",
      "Processing Record 37 of Set 7 | dingle\n",
      "Processing Record 38 of Set 7 | el dorado\n",
      "Processing Record 39 of Set 7 | mar del plata\n",
      "Processing Record 40 of Set 7 | puerto cabezas\n",
      "Processing Record 41 of Set 7 | sangmelima\n",
      "Processing Record 42 of Set 7 | stromness\n",
      "Processing Record 43 of Set 7 | russell\n",
      "Processing Record 44 of Set 7 | noumea\n",
      "Processing Record 45 of Set 7 | buchanan\n",
      "Processing Record 46 of Set 7 | narsaq\n",
      "Processing Record 47 of Set 7 | amga\n",
      "Processing Record 48 of Set 7 | tambilil\n",
      "Processing Record 49 of Set 7 | sukumo\n",
      "Processing Record 50 of Set 7 | usinsk\n",
      "Processing Record 1 of Set 8 | zhangye\n",
      "Processing Record 2 of Set 8 | xai-xai\n",
      "Processing Record 3 of Set 8 | farafangana\n",
      "Processing Record 4 of Set 8 | marsabit\n",
      "Processing Record 5 of Set 8 | kaseda\n",
      "Processing Record 6 of Set 8 | islamkot\n",
      "Processing Record 7 of Set 8 | fort saint john\n",
      "City not found. Skipping...\n",
      "Processing Record 8 of Set 8 | casper\n",
      "Processing Record 9 of Set 8 | kiunga\n",
      "Processing Record 10 of Set 8 | ullapool\n",
      "Processing Record 11 of Set 8 | malayal\n",
      "Processing Record 12 of Set 8 | haines junction\n",
      "Processing Record 13 of Set 8 | inirida\n",
      "Processing Record 14 of Set 8 | hirado\n",
      "Processing Record 15 of Set 8 | pocoes\n",
      "Processing Record 16 of Set 8 | kazanskoye\n",
      "Processing Record 17 of Set 8 | yumen\n",
      "Processing Record 18 of Set 8 | kuala terengganu\n",
      "Processing Record 19 of Set 8 | peleduy\n",
      "Processing Record 20 of Set 8 | bluefield\n",
      "Processing Record 21 of Set 8 | puno\n",
      "Processing Record 22 of Set 8 | tabiauea\n",
      "City not found. Skipping...\n",
      "Processing Record 23 of Set 8 | antofagasta\n",
      "Processing Record 24 of Set 8 | roquetas de mar\n"
     ]
    },
    {
     "name": "stdout",
     "output_type": "stream",
     "text": [
      "Processing Record 25 of Set 8 | a\n",
      "City not found. Skipping...\n",
      "Processing Record 26 of Set 8 | ikalamavony\n",
      "Processing Record 27 of Set 8 | sao filipe\n",
      "Processing Record 28 of Set 8 | andros town\n",
      "Processing Record 29 of Set 8 | kourou\n",
      "Processing Record 30 of Set 8 | imbituba\n",
      "Processing Record 31 of Set 8 | naze\n",
      "Processing Record 32 of Set 8 | kitimat\n",
      "Processing Record 33 of Set 8 | mach\n",
      "Processing Record 34 of Set 8 | umm kaddadah\n",
      "Processing Record 35 of Set 8 | kahului\n",
      "Processing Record 36 of Set 8 | guerrero negro\n",
      "Processing Record 37 of Set 8 | manzanillo\n",
      "Processing Record 38 of Set 8 | opuwo\n",
      "Processing Record 39 of Set 8 | krasnoselkup\n",
      "Processing Record 40 of Set 8 | vestbygda\n",
      "City not found. Skipping...\n",
      "Processing Record 41 of Set 8 | kalianget\n",
      "Processing Record 42 of Set 8 | kalmar\n",
      "Processing Record 43 of Set 8 | havoysund\n",
      "Processing Record 44 of Set 8 | sitka\n",
      "Processing Record 45 of Set 8 | lodja\n",
      "Processing Record 46 of Set 8 | presidencia roque saenz pena\n",
      "Processing Record 47 of Set 8 | vaovai\n",
      "City not found. Skipping...\n",
      "Processing Record 48 of Set 8 | asau\n",
      "Processing Record 49 of Set 8 | tuy hoa\n",
      "Processing Record 50 of Set 8 | lyuban\n",
      "Processing Record 1 of Set 9 | camopi\n",
      "Processing Record 2 of Set 9 | plettenberg bay\n",
      "Processing Record 3 of Set 9 | varadero\n",
      "Processing Record 4 of Set 9 | levokumskoye\n",
      "Processing Record 5 of Set 9 | bamako\n",
      "Processing Record 6 of Set 9 | kasongo-lunda\n",
      "Processing Record 7 of Set 9 | broome\n",
      "Processing Record 8 of Set 9 | pishin\n",
      "Processing Record 9 of Set 9 | lalmohan\n",
      "Processing Record 10 of Set 9 | joensuu\n",
      "Processing Record 11 of Set 9 | turayf\n",
      "Processing Record 12 of Set 9 | ternate\n",
      "Processing Record 13 of Set 9 | dickinson\n",
      "Processing Record 14 of Set 9 | antalaha\n",
      "Processing Record 15 of Set 9 | beloha\n",
      "Processing Record 16 of Set 9 | valparaiso\n",
      "Processing Record 17 of Set 9 | musoma\n",
      "Processing Record 18 of Set 9 | khasan\n",
      "Processing Record 19 of Set 9 | evensk\n",
      "Processing Record 20 of Set 9 | chapais\n",
      "Processing Record 21 of Set 9 | celestun\n",
      "Processing Record 22 of Set 9 | karauzyak\n",
      "City not found. Skipping...\n",
      "Processing Record 23 of Set 9 | tamandare\n",
      "Processing Record 24 of Set 9 | ayagoz\n",
      "Processing Record 25 of Set 9 | krasnoarmeysk\n",
      "Processing Record 26 of Set 9 | igarka\n",
      "Processing Record 27 of Set 9 | avera\n",
      "Processing Record 28 of Set 9 | samarai\n",
      "Processing Record 29 of Set 9 | novyy urengoy\n",
      "Processing Record 30 of Set 9 | safford\n",
      "Processing Record 31 of Set 9 | takoradi\n",
      "Processing Record 32 of Set 9 | coahuayana\n",
      "Processing Record 33 of Set 9 | praia\n",
      "Processing Record 34 of Set 9 | alta floresta\n",
      "Processing Record 35 of Set 9 | byron bay\n",
      "Processing Record 36 of Set 9 | stornoway\n",
      "Processing Record 37 of Set 9 | ariquemes\n",
      "Processing Record 38 of Set 9 | lima\n",
      "Processing Record 39 of Set 9 | montauban\n",
      "Processing Record 40 of Set 9 | alugan\n",
      "Processing Record 41 of Set 9 | utiroa\n",
      "City not found. Skipping...\n",
      "Processing Record 42 of Set 9 | krasnyy chikoy\n",
      "Processing Record 43 of Set 9 | nichinan\n",
      "Processing Record 44 of Set 9 | pervomayskoye\n",
      "Processing Record 45 of Set 9 | hailar\n",
      "Processing Record 46 of Set 9 | kenai\n",
      "Processing Record 47 of Set 9 | verdalsora\n",
      "City not found. Skipping...\n",
      "Processing Record 48 of Set 9 | portobelo\n",
      "Processing Record 49 of Set 9 | kamuli\n",
      "Processing Record 50 of Set 9 | atambua\n",
      "Processing Record 1 of Set 10 | yershichi\n",
      "Processing Record 2 of Set 10 | hami\n",
      "Processing Record 3 of Set 10 | maceio\n",
      "Processing Record 4 of Set 10 | mazyr\n",
      "Processing Record 5 of Set 10 | gat\n",
      "Processing Record 6 of Set 10 | sisimiut\n",
      "Processing Record 7 of Set 10 | wote\n",
      "Processing Record 8 of Set 10 | marijampole\n",
      "Processing Record 9 of Set 10 | jedburgh\n",
      "Processing Record 10 of Set 10 | sovetskiy\n",
      "Processing Record 11 of Set 10 | iberia\n",
      "Processing Record 12 of Set 10 | marcona\n",
      "City not found. Skipping...\n",
      "Processing Record 13 of Set 10 | cabedelo\n",
      "Processing Record 14 of Set 10 | itapaci\n",
      "Processing Record 15 of Set 10 | santa fe\n",
      "Processing Record 16 of Set 10 | cabo san lucas\n",
      "Processing Record 17 of Set 10 | ozernovskiy\n",
      "Processing Record 18 of Set 10 | saldanha\n",
      "Processing Record 19 of Set 10 | planegg\n",
      "Processing Record 20 of Set 10 | ugoofaaru\n",
      "Processing Record 21 of Set 10 | klaksvik\n",
      "Processing Record 22 of Set 10 | argayash\n",
      "Processing Record 23 of Set 10 | los llanos de aridane\n",
      "Processing Record 24 of Set 10 | kharabali\n",
      "Processing Record 25 of Set 10 | balimo\n",
      "City not found. Skipping...\n",
      "Processing Record 26 of Set 10 | porto belo\n",
      "Processing Record 27 of Set 10 | honningsvag\n",
      "Processing Record 28 of Set 10 | yakeshi\n",
      "Processing Record 29 of Set 10 | tambul\n",
      "City not found. Skipping...\n",
      "Processing Record 30 of Set 10 | hay river\n",
      "Processing Record 31 of Set 10 | alofi\n",
      "Processing Record 32 of Set 10 | umm bab\n",
      "Processing Record 33 of Set 10 | agar\n",
      "Processing Record 34 of Set 10 | shetpe\n",
      "Processing Record 35 of Set 10 | erenhot\n",
      "Processing Record 36 of Set 10 | sedelnikovo\n",
      "City not found. Skipping...\n",
      "Processing Record 37 of Set 10 | dunedin\n",
      "Processing Record 38 of Set 10 | ferrol\n",
      "Processing Record 39 of Set 10 | campo do brito\n",
      "Processing Record 40 of Set 10 | sanchazi\n",
      "Processing Record 41 of Set 10 | velizh\n",
      "Processing Record 42 of Set 10 | kangaatsiaq\n",
      "Processing Record 43 of Set 10 | maues\n",
      "Processing Record 44 of Set 10 | belle glade\n",
      "Processing Record 45 of Set 10 | zamosc\n",
      "Processing Record 46 of Set 10 | galiwinku\n",
      "City not found. Skipping...\n",
      "Processing Record 47 of Set 10 | emborion\n",
      "Processing Record 48 of Set 10 | sept-iles\n",
      "Processing Record 49 of Set 10 | yazykovo\n",
      "Processing Record 50 of Set 10 | ginda\n",
      "Processing Record 1 of Set 11 | starobaltachevo\n",
      "Processing Record 2 of Set 11 | henties bay\n",
      "Processing Record 3 of Set 11 | te anau\n",
      "Processing Record 4 of Set 11 | pemangkat\n",
      "Processing Record 5 of Set 11 | sao gabriel da cachoeira\n",
      "Processing Record 6 of Set 11 | amposta\n",
      "Processing Record 7 of Set 11 | sesquile\n",
      "Processing Record 8 of Set 11 | pantelho\n",
      "Processing Record 9 of Set 11 | ust-kuyga\n",
      "Processing Record 10 of Set 11 | viedma\n",
      "Processing Record 11 of Set 11 | gurskoye\n",
      "City not found. Skipping...\n",
      "Processing Record 12 of Set 11 | conakry\n",
      "Processing Record 13 of Set 11 | tremedal\n",
      "Processing Record 14 of Set 11 | sassandra\n",
      "Processing Record 15 of Set 11 | puerto del rosario\n",
      "Processing Record 16 of Set 11 | punta de piedra\n",
      "Processing Record 17 of Set 11 | nola\n",
      "Processing Record 18 of Set 11 | rogers\n",
      "Processing Record 19 of Set 11 | port macquarie\n",
      "Processing Record 20 of Set 11 | warrenton\n",
      "Processing Record 21 of Set 11 | lata\n",
      "Processing Record 22 of Set 11 | valdivia\n",
      "Processing Record 23 of Set 11 | arjona\n",
      "Processing Record 24 of Set 11 | huntsville\n",
      "Processing Record 25 of Set 11 | maniwaki\n",
      "Processing Record 26 of Set 11 | muscle shoals\n",
      "Processing Record 27 of Set 11 | shimoda\n",
      "Processing Record 28 of Set 11 | belmonte\n",
      "Processing Record 29 of Set 11 | karla\n",
      "Processing Record 30 of Set 11 | shaoyang\n",
      "Processing Record 31 of Set 11 | tsihombe\n",
      "City not found. Skipping...\n",
      "Processing Record 32 of Set 11 | abay\n",
      "Processing Record 33 of Set 11 | mandalgovi\n",
      "Processing Record 34 of Set 11 | coolum beach\n",
      "Processing Record 35 of Set 11 | san francisco\n",
      "Processing Record 36 of Set 11 | sokolo\n",
      "Processing Record 37 of Set 11 | lucapa\n",
      "Processing Record 38 of Set 11 | ostroleka\n",
      "Processing Record 39 of Set 11 | sumbawanga\n",
      "Processing Record 40 of Set 11 | praya\n",
      "Processing Record 41 of Set 11 | berdigestyakh\n",
      "Processing Record 42 of Set 11 | quatre cocos\n",
      "Processing Record 43 of Set 11 | fairview\n",
      "Processing Record 44 of Set 11 | vila franca do campo\n",
      "Processing Record 45 of Set 11 | miandoab\n",
      "Processing Record 46 of Set 11 | didwana\n",
      "Processing Record 47 of Set 11 | xudat\n",
      "Processing Record 48 of Set 11 | bantry\n",
      "Processing Record 49 of Set 11 | reconquista\n",
      "Processing Record 50 of Set 11 | pasighat\n",
      "Processing Record 1 of Set 12 | itacarambi\n",
      "Processing Record 2 of Set 12 | norsup\n",
      "Processing Record 3 of Set 12 | mandera\n",
      "Processing Record 4 of Set 12 | amapa\n",
      "Processing Record 5 of Set 12 | paracuru\n",
      "Processing Record 6 of Set 12 | sonoita\n",
      "Processing Record 7 of Set 12 | lagoa\n",
      "Processing Record 8 of Set 12 | shelburne\n",
      "Processing Record 9 of Set 12 | port pirie\n",
      "Processing Record 10 of Set 12 | mpika\n",
      "Processing Record 11 of Set 12 | upata\n",
      "Processing Record 12 of Set 12 | mount gambier\n",
      "Processing Record 13 of Set 12 | mollendo\n"
     ]
    },
    {
     "name": "stdout",
     "output_type": "stream",
     "text": [
      "Processing Record 14 of Set 12 | maniitsoq\n",
      "Processing Record 15 of Set 12 | najran\n",
      "Processing Record 16 of Set 12 | aykhal\n",
      "Processing Record 17 of Set 12 | khash\n",
      "Processing Record 18 of Set 12 | touros\n",
      "Processing Record 19 of Set 12 | kupino\n",
      "Processing Record 20 of Set 12 | emba\n",
      "Processing Record 21 of Set 12 | barreiras\n",
      "Processing Record 22 of Set 12 | vardo\n",
      "Processing Record 23 of Set 12 | rio gallegos\n",
      "Processing Record 24 of Set 12 | tucuman\n",
      "Processing Record 25 of Set 12 | moen\n",
      "Processing Record 26 of Set 12 | juegang\n",
      "Processing Record 27 of Set 12 | rabo de peixe\n",
      "Processing Record 28 of Set 12 | matara\n",
      "Processing Record 29 of Set 12 | acutzilapan\n",
      "City not found. Skipping...\n",
      "Processing Record 30 of Set 12 | verkhnyaya inta\n",
      "Processing Record 31 of Set 12 | camacha\n",
      "Processing Record 32 of Set 12 | verkhniy avzyan\n",
      "Processing Record 33 of Set 12 | taltal\n",
      "Processing Record 34 of Set 12 | greven\n",
      "Processing Record 35 of Set 12 | jaru\n",
      "Processing Record 36 of Set 12 | lolua\n",
      "City not found. Skipping...\n",
      "Processing Record 37 of Set 12 | jinzhou\n",
      "Processing Record 38 of Set 12 | hazorasp\n",
      "Processing Record 39 of Set 12 | vostok\n",
      "Processing Record 40 of Set 12 | khorixas\n",
      "Processing Record 41 of Set 12 | starotimoshkino\n",
      "Processing Record 42 of Set 12 | bogovarovo\n",
      "Processing Record 43 of Set 12 | goleta\n",
      "Processing Record 44 of Set 12 | tondano\n",
      "Processing Record 45 of Set 12 | daru\n",
      "Processing Record 46 of Set 12 | cehegin\n",
      "Processing Record 47 of Set 12 | sao felix do xingu\n",
      "Processing Record 48 of Set 12 | general roca\n",
      "Processing Record 49 of Set 12 | urumqi\n",
      "Processing Record 50 of Set 12 | marzuq\n",
      "Processing Record 1 of Set 13 | imeni poliny osipenko\n",
      "Processing Record 2 of Set 13 | honghu\n",
      "Processing Record 3 of Set 13 | maloshuyka\n",
      "City not found. Skipping...\n",
      "Processing Record 4 of Set 13 | chagda\n",
      "City not found. Skipping...\n",
      "Processing Record 5 of Set 13 | nguiu\n",
      "City not found. Skipping...\n",
      "Processing Record 6 of Set 13 | aksarayskiy\n"
     ]
    }
   ],
   "source": [
    "print('Beginning Data Retrieval')     \n",
    "print('-----------------------------')\n",
    "cities_weather = []\n",
    "\n",
    "count = 0\n",
    "set_count = 1\n",
    "\n",
    "for city in cities:\n",
    "    count+=1\n",
    "    print(f'Processing Record {count} of Set {set_count} | {city}')\n",
    "    \n",
    "    if(count == 50):\n",
    "        count = 0\n",
    "        set_count+=1\n",
    "        \n",
    "    url = \"http://api.openweathermap.org/data/2.5/weather?\"\n",
    "    query_url = f\"{url}appid={weather_api_key}&units=imperial&q={city}\"\n",
    "    response = rq.get(query_url).json()\n",
    "    try:\n",
    "        cities_weather.append({'City':city,\n",
    "                              'Country':response['sys']['country'],\n",
    "                              'Lat':response['coord']['lat'],\n",
    "                              'Lon':response['coord']['lon'],\n",
    "                              'Temp':response['main']['temp'],\n",
    "                              'Humidity':response['main']['humidity'],\n",
    "                              'Wind Speed':response['wind']['speed'],\n",
    "                               'Cloudiness':response['clouds']['all'],\n",
    "                               'Date':response['dt']})\n",
    "    except:\n",
    "        print('City not found. Skipping...')\n",
    "        pass"
   ]
  },
  {
   "cell_type": "code",
   "execution_count": 54,
   "metadata": {},
   "outputs": [
    {
     "name": "stdout",
     "output_type": "stream",
     "text": [
      "http://api.openweathermap.org/data/2.5/weather?appid=e719855148ca904602993391debf0af2&units=imperial&q=aksarayskiy\n"
     ]
    }
   ],
   "source": [
    "print(query_url)"
   ]
  },
  {
   "cell_type": "markdown",
   "metadata": {},
   "source": [
    "### Convert Raw Data to DataFrame\n",
    "* Export the city data into a .csv.\n",
    "* Display the DataFrame"
   ]
  },
  {
   "cell_type": "code",
   "execution_count": 76,
   "metadata": {},
   "outputs": [],
   "source": [
    "cities_weather_df.to_csv('Cities_Weather.csv')"
   ]
  },
  {
   "cell_type": "code",
   "execution_count": 77,
   "metadata": {},
   "outputs": [
    {
     "data": {
      "text/html": [
       "<div>\n",
       "<style scoped>\n",
       "    .dataframe tbody tr th:only-of-type {\n",
       "        vertical-align: middle;\n",
       "    }\n",
       "\n",
       "    .dataframe tbody tr th {\n",
       "        vertical-align: top;\n",
       "    }\n",
       "\n",
       "    .dataframe thead th {\n",
       "        text-align: right;\n",
       "    }\n",
       "</style>\n",
       "<table border=\"1\" class=\"dataframe\">\n",
       "  <thead>\n",
       "    <tr style=\"text-align: right;\">\n",
       "      <th></th>\n",
       "      <th>City</th>\n",
       "      <th>Country</th>\n",
       "      <th>Lat</th>\n",
       "      <th>Lon</th>\n",
       "      <th>Temp</th>\n",
       "      <th>Humidity</th>\n",
       "      <th>Wind Speed</th>\n",
       "      <th>Cloudiness</th>\n",
       "      <th>Date</th>\n",
       "    </tr>\n",
       "  </thead>\n",
       "  <tbody>\n",
       "    <tr>\n",
       "      <th>0</th>\n",
       "      <td>salinopolis</td>\n",
       "      <td>BR</td>\n",
       "      <td>-0.61</td>\n",
       "      <td>-47.36</td>\n",
       "      <td>86.31</td>\n",
       "      <td>54</td>\n",
       "      <td>8.10</td>\n",
       "      <td>48</td>\n",
       "      <td>1595859255</td>\n",
       "    </tr>\n",
       "    <tr>\n",
       "      <th>1</th>\n",
       "      <td>college</td>\n",
       "      <td>US</td>\n",
       "      <td>64.86</td>\n",
       "      <td>-147.80</td>\n",
       "      <td>54.57</td>\n",
       "      <td>82</td>\n",
       "      <td>3.36</td>\n",
       "      <td>75</td>\n",
       "      <td>1595859255</td>\n",
       "    </tr>\n",
       "    <tr>\n",
       "      <th>2</th>\n",
       "      <td>poitiers</td>\n",
       "      <td>FR</td>\n",
       "      <td>46.58</td>\n",
       "      <td>0.33</td>\n",
       "      <td>85.59</td>\n",
       "      <td>45</td>\n",
       "      <td>16.11</td>\n",
       "      <td>0</td>\n",
       "      <td>1595859255</td>\n",
       "    </tr>\n",
       "    <tr>\n",
       "      <th>3</th>\n",
       "      <td>east london</td>\n",
       "      <td>ZA</td>\n",
       "      <td>-33.02</td>\n",
       "      <td>27.91</td>\n",
       "      <td>62.60</td>\n",
       "      <td>67</td>\n",
       "      <td>12.75</td>\n",
       "      <td>2</td>\n",
       "      <td>1595859255</td>\n",
       "    </tr>\n",
       "    <tr>\n",
       "      <th>4</th>\n",
       "      <td>grand-santi</td>\n",
       "      <td>GF</td>\n",
       "      <td>4.25</td>\n",
       "      <td>-54.38</td>\n",
       "      <td>87.93</td>\n",
       "      <td>55</td>\n",
       "      <td>3.40</td>\n",
       "      <td>2</td>\n",
       "      <td>1595859255</td>\n",
       "    </tr>\n",
       "    <tr>\n",
       "      <th>...</th>\n",
       "      <td>...</td>\n",
       "      <td>...</td>\n",
       "      <td>...</td>\n",
       "      <td>...</td>\n",
       "      <td>...</td>\n",
       "      <td>...</td>\n",
       "      <td>...</td>\n",
       "      <td>...</td>\n",
       "      <td>...</td>\n",
       "    </tr>\n",
       "    <tr>\n",
       "      <th>547</th>\n",
       "      <td>urumqi</td>\n",
       "      <td>CN</td>\n",
       "      <td>43.80</td>\n",
       "      <td>87.60</td>\n",
       "      <td>68.00</td>\n",
       "      <td>82</td>\n",
       "      <td>4.47</td>\n",
       "      <td>75</td>\n",
       "      <td>1595859329</td>\n",
       "    </tr>\n",
       "    <tr>\n",
       "      <th>548</th>\n",
       "      <td>marzuq</td>\n",
       "      <td>YE</td>\n",
       "      <td>14.40</td>\n",
       "      <td>46.47</td>\n",
       "      <td>82.72</td>\n",
       "      <td>51</td>\n",
       "      <td>9.51</td>\n",
       "      <td>100</td>\n",
       "      <td>1595859329</td>\n",
       "    </tr>\n",
       "    <tr>\n",
       "      <th>549</th>\n",
       "      <td>imeni poliny osipenko</td>\n",
       "      <td>RU</td>\n",
       "      <td>52.42</td>\n",
       "      <td>136.49</td>\n",
       "      <td>61.72</td>\n",
       "      <td>86</td>\n",
       "      <td>1.70</td>\n",
       "      <td>6</td>\n",
       "      <td>1595859329</td>\n",
       "    </tr>\n",
       "    <tr>\n",
       "      <th>550</th>\n",
       "      <td>honghu</td>\n",
       "      <td>CN</td>\n",
       "      <td>29.82</td>\n",
       "      <td>113.46</td>\n",
       "      <td>73.24</td>\n",
       "      <td>97</td>\n",
       "      <td>3.89</td>\n",
       "      <td>95</td>\n",
       "      <td>1595859330</td>\n",
       "    </tr>\n",
       "    <tr>\n",
       "      <th>551</th>\n",
       "      <td>aksarayskiy</td>\n",
       "      <td>RU</td>\n",
       "      <td>46.79</td>\n",
       "      <td>48.01</td>\n",
       "      <td>89.31</td>\n",
       "      <td>15</td>\n",
       "      <td>8.95</td>\n",
       "      <td>20</td>\n",
       "      <td>1595859330</td>\n",
       "    </tr>\n",
       "  </tbody>\n",
       "</table>\n",
       "<p>552 rows × 9 columns</p>\n",
       "</div>"
      ],
      "text/plain": [
       "                      City Country    Lat     Lon   Temp  Humidity  \\\n",
       "0              salinopolis      BR  -0.61  -47.36  86.31        54   \n",
       "1                  college      US  64.86 -147.80  54.57        82   \n",
       "2                 poitiers      FR  46.58    0.33  85.59        45   \n",
       "3              east london      ZA -33.02   27.91  62.60        67   \n",
       "4              grand-santi      GF   4.25  -54.38  87.93        55   \n",
       "..                     ...     ...    ...     ...    ...       ...   \n",
       "547                 urumqi      CN  43.80   87.60  68.00        82   \n",
       "548                 marzuq      YE  14.40   46.47  82.72        51   \n",
       "549  imeni poliny osipenko      RU  52.42  136.49  61.72        86   \n",
       "550                 honghu      CN  29.82  113.46  73.24        97   \n",
       "551            aksarayskiy      RU  46.79   48.01  89.31        15   \n",
       "\n",
       "     Wind Speed  Cloudiness        Date  \n",
       "0          8.10          48  1595859255  \n",
       "1          3.36          75  1595859255  \n",
       "2         16.11           0  1595859255  \n",
       "3         12.75           2  1595859255  \n",
       "4          3.40           2  1595859255  \n",
       "..          ...         ...         ...  \n",
       "547        4.47          75  1595859329  \n",
       "548        9.51         100  1595859329  \n",
       "549        1.70           6  1595859329  \n",
       "550        3.89          95  1595859330  \n",
       "551        8.95          20  1595859330  \n",
       "\n",
       "[552 rows x 9 columns]"
      ]
     },
     "execution_count": 77,
     "metadata": {},
     "output_type": "execute_result"
    }
   ],
   "source": [
    "cities_weather_df = pd.DataFrame(cities_weather)\n",
    "cities_weather_df"
   ]
  },
  {
   "cell_type": "markdown",
   "metadata": {},
   "source": [
    "## Inspect the data and remove the cities where the humidity > 100%.\n",
    "----\n",
    "Skip this step if there are no cities that have humidity > 100%. "
   ]
  },
  {
   "cell_type": "code",
   "execution_count": 58,
   "metadata": {},
   "outputs": [
    {
     "data": {
      "text/html": [
       "<div>\n",
       "<style scoped>\n",
       "    .dataframe tbody tr th:only-of-type {\n",
       "        vertical-align: middle;\n",
       "    }\n",
       "\n",
       "    .dataframe tbody tr th {\n",
       "        vertical-align: top;\n",
       "    }\n",
       "\n",
       "    .dataframe thead th {\n",
       "        text-align: right;\n",
       "    }\n",
       "</style>\n",
       "<table border=\"1\" class=\"dataframe\">\n",
       "  <thead>\n",
       "    <tr style=\"text-align: right;\">\n",
       "      <th></th>\n",
       "      <th>City</th>\n",
       "      <th>Country</th>\n",
       "      <th>Lat</th>\n",
       "      <th>Lon</th>\n",
       "      <th>Temp</th>\n",
       "      <th>Humidity</th>\n",
       "      <th>Wind Speed</th>\n",
       "      <th>Cloudiness</th>\n",
       "      <th>Date</th>\n",
       "    </tr>\n",
       "  </thead>\n",
       "  <tbody>\n",
       "  </tbody>\n",
       "</table>\n",
       "</div>"
      ],
      "text/plain": [
       "Empty DataFrame\n",
       "Columns: [City, Country, Lat, Lon, Temp, Humidity, Wind Speed, Cloudiness, Date]\n",
       "Index: []"
      ]
     },
     "execution_count": 58,
     "metadata": {},
     "output_type": "execute_result"
    }
   ],
   "source": [
    "cities_weather_df.loc[cities_weather_df['Humidity'] > 100] \n",
    "                                                "
   ]
  },
  {
   "cell_type": "code",
   "execution_count": 59,
   "metadata": {},
   "outputs": [],
   "source": [
    "#  Get the indices of cities that have humidity over 100%.\n"
   ]
  },
  {
   "cell_type": "code",
   "execution_count": 60,
   "metadata": {},
   "outputs": [],
   "source": [
    "# Make a new DataFrame equal to the city data to drop all humidity outliers by index.\n",
    "# Passing \"inplace=False\" will make a copy of the city_data DataFrame, which we call \"clean_city_data\".\n"
   ]
  },
  {
   "cell_type": "code",
   "execution_count": 61,
   "metadata": {},
   "outputs": [],
   "source": [
    "# Extract relevant fields from the data frame\n",
    "\n",
    "\n",
    "# Export the City_Data into a csv\n"
   ]
  },
  {
   "cell_type": "markdown",
   "metadata": {},
   "source": [
    "## Plotting the Data\n",
    "* Use proper labeling of the plots using plot titles (including date of analysis) and axes labels.\n",
    "* Save the plotted figures as .pngs."
   ]
  },
  {
   "cell_type": "markdown",
   "metadata": {},
   "source": [
    "## Latitude vs. Temperature Plot"
   ]
  },
  {
   "cell_type": "code",
   "execution_count": 62,
   "metadata": {
    "scrolled": true
   },
   "outputs": [
    {
     "data": {
      "image/png": "[encoded data removed]",
      "text/plain": [
       "<Figure size 432x288 with 1 Axes>"
      ]
     },
     "metadata": {
      "needs_background": "light"
     },
     "output_type": "display_data"
    }
   ],
   "source": [
    "plt.scatter(cities_weather_df[\"Lat\"],cities_weather_df[\"Temp\"],edgecolors=\"black\",facecolors=\"skyblue\")\n",
    "plt.title(\"City Latitude vs. Max Temperature (07/27/20)\")\n",
    "plt.xlabel(\"Latitude\")\n",
    "plt.ylabel(\"Max Temperature (F)\")\n",
    "plt.grid (b=True,which=\"major\",axis=\"both\",linestyle=\"-\",color=\"lightgrey\")\n",
    "plt.savefig(\"../output_data/latvstemp_plot.png\")\n",
    "plt.show()"
   ]
  },
  {
   "cell_type": "markdown",
   "metadata": {},
   "source": [
    "## Latitude vs. Humidity Plot"
   ]
  },
  {
   "cell_type": "code",
   "execution_count": 63,
   "metadata": {},
   "outputs": [
    {
     "data": {
      "image/png": "[encoded data removed]",
      "text/plain": [
       "<Figure size 432x288 with 1 Axes>"
      ]
     },
     "metadata": {
      "needs_background": "light"
     },
     "output_type": "display_data"
    }
   ],
   "source": [
    "plt.scatter(cities_weather_df[\"Lat\"],cities_weather_df[\"Humidity\"],edgecolors=\"black\",facecolors=\"skyblue\")\n",
    "plt.title(\"City Latitude vs. Humidity (07/27/20)\")\n",
    "plt.xlabel(\"Latitude\")\n",
    "plt.ylabel(\"Humidity (%)\")\n",
    "plt.ylim(15,105)\n",
    "plt.grid (b=True,which=\"major\",axis=\"both\",linestyle=\"-\",color=\"lightgrey\")\n",
    "plt.savefig(\"../output_data/latvshumid_plot.png\")\n",
    "plt.show()"
   ]
  },
  {
   "cell_type": "markdown",
   "metadata": {},
   "source": [
    "## Latitude vs. Cloudiness Plot"
   ]
  },
  {
   "cell_type": "code",
   "execution_count": 64,
   "metadata": {},
   "outputs": [
    {
     "data": {
      "image/png": "[encoded data removed]",
      "text/plain": [
       "<Figure size 432x288 with 1 Axes>"
      ]
     },
     "metadata": {
      "needs_background": "light"
     },
     "output_type": "display_data"
    }
   ],
   "source": [
    "plt.scatter(cities_weather_df[\"Lat\"],cities_weather_df[\"Cloudiness\"],edgecolors=\"black\",facecolors=\"skyblue\")\n",
    "plt.title(\"City Latitude vs. Cloudiness (07/27/20)\")\n",
    "plt.xlabel(\"Latitude\")\n",
    "plt.ylabel(\"Cloudiness (%)\")\n",
    "plt.grid (b=True,which=\"major\",axis=\"both\",linestyle=\"-\",color=\"lightgrey\")\n",
    "plt.savefig(\"../output_data/cloudiness_plot.png\")\n",
    "plt.show()"
   ]
  },
  {
   "cell_type": "markdown",
   "metadata": {},
   "source": [
    "## Latitude vs. Wind Speed Plot"
   ]
  },
  {
   "cell_type": "code",
   "execution_count": 65,
   "metadata": {},
   "outputs": [
    {
     "data": {
      "image/png": "[encoded data removed]",
      "text/plain": [
       "<Figure size 432x288 with 1 Axes>"
      ]
     },
     "metadata": {
      "needs_background": "light"
     },
     "output_type": "display_data"
    }
   ],
   "source": [
    "plt.scatter(cities_weather_df[\"Lat\"],cities_weather_df[\"Wind Speed\"],edgecolors=\"black\",facecolors=\"skyblue\")\n",
    "plt.title(\"City Latitude vs. Wind Speed (07/27/20)\")\n",
    "plt.xlabel(\"Latitude\")\n",
    "plt.ylabel(\"Wind Speed (mph)\")\n",
    "plt.ylim(-2,34)\n",
    "plt.grid (b=True,which=\"major\",axis=\"both\",linestyle=\"-\",color=\"lightgrey\")\n",
    "plt.savefig(\"../output_data/windspeed_plot.png\")\n",
    "plt.show()"
   ]
  },
  {
   "cell_type": "markdown",
   "metadata": {},
   "source": [
    "## Linear Regression"
   ]
  },
  {
   "cell_type": "code",
   "execution_count": 66,
   "metadata": {},
   "outputs": [],
   "source": [
    "# OPTIONAL: Create a function to create Linear Regression plots"
   ]
  },
  {
   "cell_type": "code",
   "execution_count": 67,
   "metadata": {},
   "outputs": [],
   "source": [
    "# Create Northern and Southern Hemisphere DataFrames\n",
    "Northern_hem_df = cities_weather_df.loc[cities_weather_df['Lat'] > 0]\n",
    "Southern_hem_df = cities_weather_df.loc[cities_weather_df['Lat'] < 0]\n",
    "\n",
    "\n"
   ]
  },
  {
   "cell_type": "markdown",
   "metadata": {},
   "source": [
    "####  Northern Hemisphere - Max Temp vs. Latitude Linear Regression"
   ]
  },
  {
   "cell_type": "code",
   "execution_count": 68,
   "metadata": {},
   "outputs": [
    {
     "name": "stdout",
     "output_type": "stream",
     "text": [
      "R squared: 0.3996653528750232\n"
     ]
    },
    {
     "data": {
      "image/png": "[encoded data removed]",
      "text/plain": [
       "<Figure size 432x288 with 1 Axes>"
      ]
     },
     "metadata": {
      "needs_background": "light"
     },
     "output_type": "display_data"
    }
   ],
   "source": [
    "x_values = Northern_hem_df['Lat'].astype('float')\n",
    "y_values = Northern_hem_df['Temp'].astype('float')\n",
    "(slope, intercept, rvalue, pvalue, stderr) = linregress(x_values, y_values)\n",
    "regress_values = x_values * slope + intercept\n",
    "line_eq = \"y = \" + str(round(slope,2)) + \"x + \" + str(round(intercept,2))\n",
    "plt.scatter(x_values,y_values)\n",
    "\n",
    "#Line map\n",
    "plt.plot(x_values,regress_values,\"r-\")\n",
    "plt.annotate(line_eq,(6,10),fontsize=15,color=\"red\")\n",
    "plt.xlabel('Lat')\n",
    "plt.ylabel('Temp')\n",
    "print(f\"R squared: {rvalue**2}\")\n",
    "plt.savefig(\"../output_data/latvstemp_regress.png\")\n",
    "plt.show()"
   ]
  },
  {
   "cell_type": "markdown",
   "metadata": {},
   "source": [
    "####  Southern Hemisphere - Max Temp vs. Latitude Linear Regression"
   ]
  },
  {
   "cell_type": "code",
   "execution_count": 69,
   "metadata": {},
   "outputs": [
    {
     "name": "stdout",
     "output_type": "stream",
     "text": [
      "R squared: 0.7027907519993518\n"
     ]
    },
    {
     "data": {
      "image/png": "[encoded data removed]",
      "text/plain": [
       "<Figure size 432x288 with 1 Axes>"
      ]
     },
     "metadata": {
      "needs_background": "light"
     },
     "output_type": "display_data"
    }
   ],
   "source": [
    "x_values = Southern_hem_df['Lat'].astype('float')\n",
    "y_values = Southern_hem_df['Temp'].astype('float')\n",
    "(slope, intercept, rvalue, pvalue, stderr) = linregress(x_values, y_values)\n",
    "regress_values = x_values * slope + intercept\n",
    "line_eq = \"y = \" + str(round(slope,2)) + \"x + \" + str(round(intercept,2))\n",
    "plt.scatter(x_values,y_values)\n",
    "\n",
    "#Line map\n",
    "plt.plot(x_values,regress_values,\"r-\")\n",
    "plt.annotate(line_eq,(6,10),fontsize=15,color=\"red\")\n",
    "plt.xlabel('Lat')\n",
    "plt.ylabel('Temp')\n",
    "print(f\"R squared: {rvalue**2}\")\n",
    "plt.savefig(\"../output_data/latvstemp_regress2.png\")\n",
    "plt.show()"
   ]
  },
  {
   "cell_type": "markdown",
   "metadata": {},
   "source": [
    "####  Northern Hemisphere - Humidity (%) vs. Latitude Linear Regression"
   ]
  },
  {
   "cell_type": "code",
   "execution_count": 70,
   "metadata": {},
   "outputs": [
    {
     "name": "stdout",
     "output_type": "stream",
     "text": [
      "R squared: 0.00023993665245664047\n"
     ]
    },
    {
     "data": {
      "image/png": "[encoded data removed]",
      "text/plain": [
       "<Figure size 432x288 with 1 Axes>"
      ]
     },
     "metadata": {
      "needs_background": "light"
     },
     "output_type": "display_data"
    }
   ],
   "source": [
    "x_values = Northern_hem_df['Lat'].astype('float')\n",
    "y_values = Northern_hem_df['Humidity'].astype('float')\n",
    "(slope, intercept, rvalue, pvalue, stderr) = linregress(x_values, y_values)\n",
    "regress_values = x_values * slope + intercept\n",
    "line_eq = \"y = \" + str(round(slope,2)) + \"x + \" + str(round(intercept,2))\n",
    "plt.scatter(x_values,y_values)\n",
    "\n",
    "#Line map\n",
    "plt.plot(x_values,regress_values,\"r-\")\n",
    "plt.annotate(line_eq,(6,10),fontsize=15,color=\"red\")\n",
    "plt.xlabel('Lat')\n",
    "plt.ylabel('Humidity')\n",
    "print(f\"R squared: {rvalue**2}\")\n",
    "plt.savefig(\"../output_data/latvshumid_regress.png\")\n",
    "plt.show()"
   ]
  },
  {
   "cell_type": "markdown",
   "metadata": {},
   "source": [
    "####  Southern Hemisphere - Humidity (%) vs. Latitude Linear Regression"
   ]
  },
  {
   "cell_type": "code",
   "execution_count": 71,
   "metadata": {},
   "outputs": [
    {
     "name": "stdout",
     "output_type": "stream",
     "text": [
      "R squared: 0.029004423338161427\n"
     ]
    },
    {
     "data": {
      "image/png": "[encoded data removed]",
      "text/plain": [
       "<Figure size 432x288 with 1 Axes>"
      ]
     },
     "metadata": {
      "needs_background": "light"
     },
     "output_type": "display_data"
    }
   ],
   "source": [
    "x_values = Southern_hem_df['Lat'].astype('float')\n",
    "y_values = Southern_hem_df['Humidity'].astype('float')\n",
    "(slope, intercept, rvalue, pvalue, stderr) = linregress(x_values, y_values)\n",
    "regress_values = x_values * slope + intercept\n",
    "line_eq = \"y = \" + str(round(slope,2)) + \"x + \" + str(round(intercept,2))\n",
    "plt.scatter(x_values,y_values)\n",
    "\n",
    "#Line map\n",
    "plt.plot(x_values,regress_values,\"r-\")\n",
    "plt.annotate(line_eq,(6,10),fontsize=15,color=\"red\")\n",
    "plt.xlabel('Lat')\n",
    "plt.ylabel('Humidity')\n",
    "print(f\"R squared: {rvalue**2}\")\n",
    "plt.savefig(\"../output_data/latvshumid_regress2.png\")\n",
    "plt.show()"
   ]
  },
  {
   "cell_type": "markdown",
   "metadata": {},
   "source": [
    "####  Northern Hemisphere - Cloudiness (%) vs. Latitude Linear Regression"
   ]
  },
  {
   "cell_type": "code",
   "execution_count": 72,
   "metadata": {},
   "outputs": [
    {
     "name": "stdout",
     "output_type": "stream",
     "text": [
      "R squared: 0.0033188611835097536\n"
     ]
    },
    {
     "data": {
      "image/png": "[encoded data removed]",
      "text/plain": [
       "<Figure size 432x288 with 1 Axes>"
      ]
     },
     "metadata": {
      "needs_background": "light"
     },
     "output_type": "display_data"
    }
   ],
   "source": [
    "x_values = Northern_hem_df['Lat'].astype('float')\n",
    "y_values = Northern_hem_df['Cloudiness'].astype('float')\n",
    "(slope, intercept, rvalue, pvalue, stderr) = linregress(x_values, y_values)\n",
    "regress_values = x_values * slope + intercept\n",
    "line_eq = \"y = \" + str(round(slope,2)) + \"x + \" + str(round(intercept,2))\n",
    "plt.scatter(x_values,y_values)\n",
    "\n",
    "#Line map\n",
    "plt.plot(x_values,regress_values,\"r-\")\n",
    "plt.annotate(line_eq,(6,10),fontsize=15,color=\"red\")\n",
    "plt.xlabel('Lat')\n",
    "plt.ylabel('Temp')\n",
    "print(f\"R squared: {rvalue**2}\")\n",
    "plt.savefig(\"../output_data/latvscloudiness_regress.png\")\n",
    "plt.show()"
   ]
  },
  {
   "cell_type": "markdown",
   "metadata": {},
   "source": [
    "####  Southern Hemisphere - Cloudiness (%) vs. Latitude Linear Regression"
   ]
  },
  {
   "cell_type": "code",
   "execution_count": 73,
   "metadata": {},
   "outputs": [
    {
     "name": "stdout",
     "output_type": "stream",
     "text": [
      "R squared: 0.00029490755642743393\n"
     ]
    },
    {
     "data": {
      "image/png": "[encoded data removed]",
      "text/plain": [
       "<Figure size 432x288 with 1 Axes>"
      ]
     },
     "metadata": {
      "needs_background": "light"
     },
     "output_type": "display_data"
    }
   ],
   "source": [
    "x_values = Southern_hem_df['Lat'].astype('float')\n",
    "y_values = Southern_hem_df['Cloudiness'].astype('float')\n",
    "(slope, intercept, rvalue, pvalue, stderr) = linregress(x_values, y_values)\n",
    "regress_values = x_values * slope + intercept\n",
    "line_eq = \"y = \" + str(round(slope,2)) + \"x + \" + str(round(intercept,2))\n",
    "plt.scatter(x_values,y_values)\n",
    "\n",
    "#Line map\n",
    "plt.plot(x_values,regress_values,\"r-\")\n",
    "plt.annotate(line_eq,(6,10),fontsize=15,color=\"red\")\n",
    "plt.xlabel('Lat')\n",
    "plt.ylabel('Temp')\n",
    "print(f\"R squared: {rvalue**2}\")\n",
    "plt.savefig(\"../output_data/latvscloudiness_regress2.png\")\n",
    "plt.show()"
   ]
  },
  {
   "cell_type": "markdown",
   "metadata": {},
   "source": [
    "####  Northern Hemisphere - Wind Speed (mph) vs. Latitude Linear Regression"
   ]
  },
  {
   "cell_type": "code",
   "execution_count": 74,
   "metadata": {},
   "outputs": [
    {
     "name": "stdout",
     "output_type": "stream",
     "text": [
      "R squared: 0.003426501122040078\n"
     ]
    },
    {
     "data": {
      "image/png": "[encoded data removed]",
      "text/plain": [
       "<Figure size 432x288 with 1 Axes>"
      ]
     },
     "metadata": {
      "needs_background": "light"
     },
     "output_type": "display_data"
    }
   ],
   "source": [
    "x_values = Northern_hem_df['Lat'].astype('float')\n",
    "y_values = Northern_hem_df['Wind Speed'].astype('float')\n",
    "(slope, intercept, rvalue, pvalue, stderr) = linregress(x_values, y_values)\n",
    "regress_values = x_values * slope + intercept\n",
    "line_eq = \"y = \" + str(round(slope,2)) + \"x + \" + str(round(intercept,2))\n",
    "plt.scatter(x_values,y_values)\n",
    "\n",
    "#Line map\n",
    "plt.plot(x_values,regress_values,\"r-\")\n",
    "plt.annotate(line_eq,(6,10),fontsize=15,color=\"red\")\n",
    "plt.xlabel('Lat')\n",
    "plt.ylabel('Temp')\n",
    "print(f\"R squared: {rvalue**2}\")\n",
    "plt.savefig(\"../output_data/latvswind_regress.png\")\n",
    "plt.show()"
   ]
  },
  {
   "cell_type": "markdown",
   "metadata": {},
   "source": [
    "####  Southern Hemisphere - Wind Speed (mph) vs. Latitude Linear Regression"
   ]
  },
  {
   "cell_type": "code",
   "execution_count": 75,
   "metadata": {},
   "outputs": [
    {
     "name": "stdout",
     "output_type": "stream",
     "text": [
      "R squared: 0.0037701756125226274\n"
     ]
    },
    {
     "data": {
      "image/png": "[encoded data removed]",
      "text/plain": [
       "<Figure size 432x288 with 1 Axes>"
      ]
     },
     "metadata": {
      "needs_background": "light"
     },
     "output_type": "display_data"
    }
   ],
   "source": [
    "x_values = Southern_hem_df['Lat'].astype('float')\n",
    "y_values = Southern_hem_df['Wind Speed'].astype('float')\n",
    "(slope, intercept, rvalue, pvalue, stderr) = linregress(x_values, y_values)\n",
    "regress_values = x_values * slope + intercept\n",
    "line_eq = \"y = \" + str(round(slope,2)) + \"x + \" + str(round(intercept,2))\n",
    "plt.scatter(x_values,y_values)\n",
    "\n",
    "#Line map\n",
    "plt.plot(x_values,regress_values,\"r-\")\n",
    "plt.annotate(line_eq,(6,10),fontsize=15,color=\"red\")\n",
    "plt.xlabel('Lat')\n",
    "plt.ylabel('Temp')\n",
    "print(f\"R squared: {rvalue**2}\")\n",
    "plt.savefig(\"../output_data/latvswind_regress2.png\")\n",
    "plt.show()"
   ]
  },
  {
   "cell_type": "code",
   "execution_count": null,
   "metadata": {},
   "outputs": [],
   "source": []
  },
  {
   "cell_type": "code",
   "execution_count": null,
   "metadata": {},
   "outputs": [],
   "source": []
  }
 ],
 "metadata": {
  "anaconda-cloud": {},
  "kernel_info": {
   "name": "python3"
  },
  "kernelspec": {
   "display_name": "Python [conda env:PythonData] *",
   "language": "python",
   "name": "conda-env-PythonData-py"
  },
  "language_info": {
   "codemirror_mode": {
    "name": "ipython",
    "version": 3
   },
   "file_extension": ".py",
   "mimetype": "text/x-python",
   "name": "python",
   "nbconvert_exporter": "python",
   "pygments_lexer": "ipython3",
   "version": "3.6.10"
  },
  "latex_envs": {
   "LaTeX_envs_menu_present": true,
   "autoclose": false,
   "autocomplete": true,
   "bibliofile": "biblio.bib",
   "cite_by": "apalike",
   "current_citInitial": 1,
   "eqLabelWithNumbers": true,
   "eqNumInitial": 1,
   "hotkeys": {
    "equation": "Ctrl-E",
    "itemize": "Ctrl-I"
   },
   "labels_anchors": false,
   "latex_user_defs": false,
   "report_style_numbering": false,
   "user_envs_cfg": false
  },
  "nteract": {
   "version": "0.12.3"
  }
 },
 "nbformat": 4,
 "nbformat_minor": 2
}
